{
  "cells": [
    {
      "cell_type": "code",
      "execution_count": null,
      "metadata": {
        "id": "sFkgq_C2fv9Q"
      },
      "outputs": [],
      "source": [
        "from tensorflow.keras.applications.inception_v3 import InceptionV3\n",
        "from tensorflow.keras.applications.inception_v3 import preprocess_input\n",
        "from tensorflow.keras.preprocessing import image\n",
        "import tensorflow as tf\n",
        "from tensorflow.keras.preprocessing.image import img_to_array\n",
        "from sklearn.cluster import KMeans\n",
        "import pandas as pd\n",
        "import numpy as np\n",
        "from tqdm import tqdm\n",
        "import os\n",
        "import shutil\n",
        "import pathlib\n",
        "import matplotlib.pyplot as plt\n",
        "from sklearn.cluster import SpectralClustering"
      ]
    },
    {
      "cell_type": "code",
      "execution_count": null,
      "metadata": {
        "id": "-0DUd1jnTUb5"
      },
      "outputs": [],
      "source": [
        "!unzip test.zip"
      ]
    },
    {
      "cell_type": "code",
      "source": [
        "!unzip test1.zip"
      ],
      "metadata": {
        "id": "W7_oJLgJbVX8"
      },
      "execution_count": null,
      "outputs": []
    },
    {
      "cell_type": "code",
      "execution_count": null,
      "metadata": {
        "id": "zlo7Fw2NxD18"
      },
      "outputs": [],
      "source": [
        "# This function extracts features from the images \n",
        "# Also name the images so that we can tell which image\n",
        "# is in which cluster.\n",
        "\n",
        "def extract_feature(path):\n",
        "    model = InceptionV3(weights='imagenet', include_top=False)\n",
        "    features = [];\n",
        "    img_name = [];\n",
        "    for f in os.listdir(path):\n",
        "        img=image.load_img(f,target_size=(1230,1100))\n",
        "        #process the img data for manipulation\n",
        "        data=img_to_array(img)\n",
        "        data=np.expand_dims(data,axis=0)\n",
        "        data=preprocess_input(data)\n",
        "        #extract features of data\n",
        "        feature=model.predict(data)\n",
        "        print(feature.shape)\n",
        "        feature=feature.flatten()\n",
        "        features.append(feature)\n",
        "        img_name.append(f)\n",
        "\n",
        "    return features,img_name"
      ]
    },
    {
      "cell_type": "code",
      "execution_count": null,
      "metadata": {
        "id": "631IMYeWWXaH"
      },
      "outputs": [],
      "source": [
        "if os.getcwd()!='/content/test1':\n",
        "  os.chdir('/content/test1')\n",
        "cwd = os.getcwd()\n",
        "print (os.getcwd())"
      ]
    },
    {
      "cell_type": "code",
      "execution_count": null,
      "metadata": {
        "id": "PemDMw51yWIF"
      },
      "outputs": [],
      "source": [
        "img_features,img_name=extract_feature(cwd)"
      ]
    },
    {
      "cell_type": "code",
      "execution_count": null,
      "metadata": {
        "id": "rJXtfJYDXYcm"
      },
      "outputs": [],
      "source": [
        "#Creating Clusters\n",
        "k = 3\n",
        "clusters = KMeans(k, init = 'random')\n",
        "clusters.fit(img_features)"
      ]
    },
    {
      "cell_type": "code",
      "execution_count": null,
      "metadata": {
        "id": "94FFOhHAXaGZ"
      },
      "outputs": [],
      "source": [
        "image_cluster = pd.DataFrame(img_name,columns=['image'])\n",
        "image_cluster[\"clusterid\"] = clusters.labels_"
      ]
    },
    {
      "cell_type": "code",
      "execution_count": null,
      "metadata": {
        "id": "fr-bcpCkYIiE"
      },
      "outputs": [],
      "source": [
        "# Make folder to seperate images\n",
        "# Images will be seperated according to cluster they belong\n",
        "os.mkdir('folder1')\n",
        "os.mkdir('folder2')\n",
        "os.mkdir('folder3')\n",
        "for i in range(len(image_cluster)):\n",
        "    if image_cluster['clusterid'][i]==0: \n",
        "      shutil.move(image_cluster['image'][i], 'folder1')\n",
        "    elif image_cluster['clusterid'][i] == 1: \n",
        "      shutil.move(image_cluster['image'][i], 'folder2')\n",
        "    else:\n",
        "      shutil.move(image_cluster['image'][i], 'folder3')"
      ]
    },
    {
      "cell_type": "markdown",
      "metadata": {
        "id": "pw7GUqiLzLaL"
      },
      "source": [
        "*Spectral Clustering* model\n"
      ]
    },
    {
      "cell_type": "code",
      "execution_count": null,
      "metadata": {
        "id": "Ujf-ZQNq7OGF"
      },
      "outputs": [],
      "source": [
        "if os.getcwd()!='/content/test2':\n",
        "  os.chdir('/content/test2')\n",
        "sc_cwd = os.getcwd()\n",
        "print (os.getcwd())"
      ]
    },
    {
      "cell_type": "code",
      "source": [
        "sc_img_features,sc_img_name=extract_feature(sc_cwd)"
      ],
      "metadata": {
        "id": "8m6D6HUTAcAr"
      },
      "execution_count": null,
      "outputs": []
    },
    {
      "cell_type": "code",
      "execution_count": null,
      "metadata": {
        "id": "itd9FiE6pmfU"
      },
      "outputs": [],
      "source": [
        "k = 3\n",
        "sc = SpectralClustering(k, eigen_solver='arpack', affinity=\"nearest_neighbors\")\n",
        "sc.fit(sc_img_features)"
      ]
    },
    {
      "cell_type": "code",
      "execution_count": null,
      "metadata": {
        "id": "n6y1hJrXsb15"
      },
      "outputs": [],
      "source": [
        "sc_image_cluster = pd.DataFrame(sc_img_name,columns=['image'])\n",
        "sc_image_cluster[\"clusterid\"] = sc.labels_"
      ]
    },
    {
      "cell_type": "code",
      "execution_count": null,
      "metadata": {
        "id": "9HbKCQuGsgX0"
      },
      "outputs": [],
      "source": [
        "os.mkdir('folder4')\n",
        "os.mkdir('folder5')\n",
        "os.mkdir('folder6')\n",
        "for i in range(len(sc_image_cluster)):\n",
        "    if sc_image_cluster['clusterid'][i]==0: \n",
        "      shutil.move(sc_image_cluster['image'][i], 'folder4')\n",
        "    elif sc_image_cluster['clusterid'][i] == 1: \n",
        "      shutil.move(sc_image_cluster['image'][i], 'folder5')\n",
        "    else:\n",
        "      shutil.move(sc_image_cluster['image'][i], 'folder6')"
      ]
    }
  ],
  "metadata": {
    "colab": {
      "provenance": []
    },
    "kernelspec": {
      "display_name": "Python 3",
      "name": "python3"
    },
    "language_info": {
      "name": "python"
    }
  },
  "nbformat": 4,
  "nbformat_minor": 0
}